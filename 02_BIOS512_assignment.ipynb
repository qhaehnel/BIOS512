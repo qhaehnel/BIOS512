{
 "cells": [
  {
   "cell_type": "markdown",
   "id": "cd25411e-408b-49f1-bd11-f80c7d39395b",
   "metadata": {},
   "source": [
    "# BIOS512 Assignment #2"
   ]
  },
  {
   "cell_type": "markdown",
   "id": "47819309-5cd0-431b-ac11-14a1d388e1bf",
   "metadata": {},
   "source": [
    "📚 import the `TidyVerse` package. 📚"
   ]
  },
  {
   "cell_type": "code",
   "execution_count": 1,
   "id": "f86fae60-93e5-4f05-85e4-f12553e2f514",
   "metadata": {},
   "outputs": [
    {
     "name": "stderr",
     "output_type": "stream",
     "text": [
      "Warning message:\n",
      "“Failed to locate timezone database”\n",
      "── \u001b[1mAttaching core tidyverse packages\u001b[22m ──────────────────────── tidyverse 2.0.0 ──\n",
      "\u001b[32m✔\u001b[39m \u001b[34mdplyr    \u001b[39m 1.1.3     \u001b[32m✔\u001b[39m \u001b[34mreadr    \u001b[39m 2.1.4\n",
      "\u001b[32m✔\u001b[39m \u001b[34mforcats  \u001b[39m 1.0.0     \u001b[32m✔\u001b[39m \u001b[34mstringr  \u001b[39m 1.5.0\n",
      "\u001b[32m✔\u001b[39m \u001b[34mggplot2  \u001b[39m 3.4.3     \u001b[32m✔\u001b[39m \u001b[34mtibble   \u001b[39m 3.2.1\n",
      "\u001b[32m✔\u001b[39m \u001b[34mlubridate\u001b[39m 1.9.2     \u001b[32m✔\u001b[39m \u001b[34mtidyr    \u001b[39m 1.3.0\n",
      "\u001b[32m✔\u001b[39m \u001b[34mpurrr    \u001b[39m 1.0.2     \n",
      "── \u001b[1mConflicts\u001b[22m ────────────────────────────────────────── tidyverse_conflicts() ──\n",
      "\u001b[31m✖\u001b[39m \u001b[34mdplyr\u001b[39m::\u001b[32mfilter()\u001b[39m masks \u001b[34mstats\u001b[39m::filter()\n",
      "\u001b[31m✖\u001b[39m \u001b[34mdplyr\u001b[39m::\u001b[32mlag()\u001b[39m    masks \u001b[34mstats\u001b[39m::lag()\n",
      "\u001b[36mℹ\u001b[39m Use the conflicted package (\u001b[3m\u001b[34m<http://conflicted.r-lib.org/>\u001b[39m\u001b[23m) to force all conflicts to become errors\n"
     ]
    }
   ],
   "source": [
    "library('tidyverse')"
   ]
  },
  {
   "cell_type": "markdown",
   "id": "c6e7ef5a-59a8-4d20-ac8f-bce768d14b97",
   "metadata": {},
   "source": [
    "Uncomment the code below and execute the following cell. This code provides a table for us called `ncaa_sports_spending`."
   ]
  },
  {
   "cell_type": "code",
   "execution_count": 2,
   "id": "f0867550-2743-491b-9cdb-4de89fba5991",
   "metadata": {},
   "outputs": [
    {
     "data": {
      "text/html": [
       "<table class=\"dataframe\">\n",
       "<caption>A tibble: 6 × 4</caption>\n",
       "<thead>\n",
       "\t<tr><th scope=col>year</th><th scope=col>institution_name</th><th scope=col>men_or_women</th><th scope=col>expenditure_usd</th></tr>\n",
       "\t<tr><th scope=col>&lt;dbl&gt;</th><th scope=col>&lt;chr&gt;</th><th scope=col>&lt;chr&gt;</th><th scope=col>&lt;dbl&gt;</th></tr>\n",
       "</thead>\n",
       "<tbody>\n",
       "\t<tr><td>2015</td><td><span style=white-space:pre-wrap>Alabama A &amp; M University           </span></td><td><span style=white-space:pre-wrap>men  </span></td><td> 817868</td></tr>\n",
       "\t<tr><td>2015</td><td><span style=white-space:pre-wrap>Alabama A &amp; M University           </span></td><td>women</td><td> 742460</td></tr>\n",
       "\t<tr><td>2015</td><td>University of Alabama at Birmingham</td><td>men  </td><td>4189826</td></tr>\n",
       "\t<tr><td>2015</td><td>University of Alabama at Birmingham</td><td>women</td><td>1962579</td></tr>\n",
       "\t<tr><td>2015</td><td>University of Alabama in Huntsville</td><td>men  </td><td> 612569</td></tr>\n",
       "\t<tr><td>2015</td><td>University of Alabama in Huntsville</td><td>women</td><td> 386007</td></tr>\n",
       "</tbody>\n",
       "</table>\n"
      ],
      "text/latex": [
       "A tibble: 6 × 4\n",
       "\\begin{tabular}{llll}\n",
       " year & institution\\_name & men\\_or\\_women & expenditure\\_usd\\\\\n",
       " <dbl> & <chr> & <chr> & <dbl>\\\\\n",
       "\\hline\n",
       "\t 2015 & Alabama A \\& M University            & men   &  817868\\\\\n",
       "\t 2015 & Alabama A \\& M University            & women &  742460\\\\\n",
       "\t 2015 & University of Alabama at Birmingham & men   & 4189826\\\\\n",
       "\t 2015 & University of Alabama at Birmingham & women & 1962579\\\\\n",
       "\t 2015 & University of Alabama in Huntsville & men   &  612569\\\\\n",
       "\t 2015 & University of Alabama in Huntsville & women &  386007\\\\\n",
       "\\end{tabular}\n"
      ],
      "text/markdown": [
       "\n",
       "A tibble: 6 × 4\n",
       "\n",
       "| year &lt;dbl&gt; | institution_name &lt;chr&gt; | men_or_women &lt;chr&gt; | expenditure_usd &lt;dbl&gt; |\n",
       "|---|---|---|---|\n",
       "| 2015 | Alabama A &amp; M University            | men   |  817868 |\n",
       "| 2015 | Alabama A &amp; M University            | women |  742460 |\n",
       "| 2015 | University of Alabama at Birmingham | men   | 4189826 |\n",
       "| 2015 | University of Alabama at Birmingham | women | 1962579 |\n",
       "| 2015 | University of Alabama in Huntsville | men   |  612569 |\n",
       "| 2015 | University of Alabama in Huntsville | women |  386007 |\n",
       "\n"
      ],
      "text/plain": [
       "  year institution_name                    men_or_women expenditure_usd\n",
       "1 2015 Alabama A & M University            men           817868        \n",
       "2 2015 Alabama A & M University            women         742460        \n",
       "3 2015 University of Alabama at Birmingham men          4189826        \n",
       "4 2015 University of Alabama at Birmingham women        1962579        \n",
       "5 2015 University of Alabama in Huntsville men           612569        \n",
       "6 2015 University of Alabama in Huntsville women         386007        "
      ]
     },
     "metadata": {},
     "output_type": "display_data"
    }
   ],
   "source": [
    "data_url = 'https://raw.githubusercontent.com/rfordatascience/tidytuesday/master/data/2022/2022-03-29/sports.csv'\n",
    "\n",
    "ncaa_sports_spending = read_csv(data_url, col_types = cols()) |> \n",
    "    filter(sports == 'Basketball') |>\n",
    "    pivot_longer(c(exp_men, exp_women), names_to = 'men_or_women', values_to = 'expenditure_usd') |>\n",
    "    select(year, institution_name, men_or_women, expenditure_usd) |>\n",
    "    mutate(men_or_women = str_replace(men_or_women, 'exp_', ''))\n",
    "ncaa_sports_spending |> head()"
   ]
  },
  {
   "cell_type": "markdown",
   "id": "2b5fed88-3327-47fb-b557-79549a35228b",
   "metadata": {},
   "source": [
    "**Compare the spending on men's versus women's basketball over time using a bar chart.**\n",
    "\n",
    "Either use an *encoding* or *facet* to plot separate bars for men and women.\n",
    "\n",
    "(**Hint** you can use `geom_col` with `x` and `y` encodings so the bar height reflects spending.)"
   ]
  },
  {
   "cell_type": "code",
   "execution_count": 5,
   "id": "72c869ad-0faa-43c6-b020-25182e654a99",
   "metadata": {},
   "outputs": [
    {
     "name": "stderr",
     "output_type": "stream",
     "text": [
      "Warning message:\n",
      "“\u001b[1m\u001b[22mRemoved 609 rows containing missing values (`position_stack()`).”\n"
     ]
    },
    {
     "data": {
      "image/png": "[encoded data removed]",
      "text/plain": [
       "plot without title"
      ]
     },
     "metadata": {
      "image/png": {
       "height": 420,
       "width": 420
      }
     },
     "output_type": "display_data"
    }
   ],
   "source": [
    "p= ggplot(ncaa_sports_spending,aes(x=year,y=expenditure_usd))+\n",
    "    geom_col()+\n",
    "    facet_wrap(~men_or_women)+\n",
    "    scale_y_continuous(labels = scales::dollar_format())\n",
    "p"
   ]
  },
  {
   "cell_type": "markdown",
   "id": "743bf2e1-7fe3-4caf-8fd2-244277a82a3b",
   "metadata": {},
   "source": [
    "You can find my solution [here](https://raw.githubusercontent.com/chuckpr/BIOS512/main/assignments/sports_spendig_chart.png). **Your chart does not need to look exactly like mine!** You may arrive at a different solution 🙂. \n",
    "\n",
    "To get the dollar signs in the axis labels I added this adujustment to my chart:\n",
    "\n",
    "```r\n",
    "scale_y_continuous(labels = scales::dollar_format())\n",
    "```"
   ]
  },
  {
   "cell_type": "code",
   "execution_count": 9,
   "id": "58980c89-7882-4103-9c4c-4af2904fcd5a",
   "metadata": {
    "tags": []
   },
   "outputs": [
    {
     "name": "stderr",
     "output_type": "stream",
     "text": [
      "\u001b[1m\u001b[22m`summarise()` has grouped output by 'year'. You can override using the\n",
      "`.groups` argument.\n"
     ]
    },
    {
     "data": {
      "text/html": [
       "<table class=\"dataframe\">\n",
       "<caption>A grouped_df: 6 × 3</caption>\n",
       "<thead>\n",
       "\t<tr><th scope=col>year</th><th scope=col>men_or_women</th><th scope=col>expenditure_usd</th></tr>\n",
       "\t<tr><th scope=col>&lt;dbl&gt;</th><th scope=col>&lt;chr&gt;</th><th scope=col>&lt;dbl&gt;</th></tr>\n",
       "</thead>\n",
       "<tbody>\n",
       "\t<tr><td>2015</td><td>men  </td><td>1622132863</td></tr>\n",
       "\t<tr><td>2015</td><td>women</td><td>1013740678</td></tr>\n",
       "\t<tr><td>2016</td><td>men  </td><td>1695782608</td></tr>\n",
       "\t<tr><td>2016</td><td>women</td><td>1057390299</td></tr>\n",
       "\t<tr><td>2017</td><td>men  </td><td>1809020416</td></tr>\n",
       "\t<tr><td>2017</td><td>women</td><td>1105637602</td></tr>\n",
       "</tbody>\n",
       "</table>\n"
      ],
      "text/latex": [
       "A grouped\\_df: 6 × 3\n",
       "\\begin{tabular}{lll}\n",
       " year & men\\_or\\_women & expenditure\\_usd\\\\\n",
       " <dbl> & <chr> & <dbl>\\\\\n",
       "\\hline\n",
       "\t 2015 & men   & 1622132863\\\\\n",
       "\t 2015 & women & 1013740678\\\\\n",
       "\t 2016 & men   & 1695782608\\\\\n",
       "\t 2016 & women & 1057390299\\\\\n",
       "\t 2017 & men   & 1809020416\\\\\n",
       "\t 2017 & women & 1105637602\\\\\n",
       "\\end{tabular}\n"
      ],
      "text/markdown": [
       "\n",
       "A grouped_df: 6 × 3\n",
       "\n",
       "| year &lt;dbl&gt; | men_or_women &lt;chr&gt; | expenditure_usd &lt;dbl&gt; |\n",
       "|---|---|---|\n",
       "| 2015 | men   | 1622132863 |\n",
       "| 2015 | women | 1013740678 |\n",
       "| 2016 | men   | 1695782608 |\n",
       "| 2016 | women | 1057390299 |\n",
       "| 2017 | men   | 1809020416 |\n",
       "| 2017 | women | 1105637602 |\n",
       "\n"
      ],
      "text/plain": [
       "  year men_or_women expenditure_usd\n",
       "1 2015 men          1622132863     \n",
       "2 2015 women        1013740678     \n",
       "3 2016 men          1695782608     \n",
       "4 2016 women        1057390299     \n",
       "5 2017 men          1809020416     \n",
       "6 2017 women        1105637602     "
      ]
     },
     "metadata": {},
     "output_type": "display_data"
    }
   ],
   "source": [
    "ncaa_sports_spending2 = ncaa_sports_spending |>\n",
    "    group_by(year,men_or_women) |>\n",
    "    summarize(expenditure_usd=sum(expenditure_usd,na.rm=TRUE))\n",
    "ncaa_sports_spending2|>\n",
    "    head()"
   ]
  },
  {
   "cell_type": "markdown",
   "id": "39f20ace-fd8c-4722-a312-4a0761ef55cf",
   "metadata": {},
   "source": [
    "**Visualize the same data but this time with a line chart. Make sure your lines are \"grouped\" according to the `men_or_women` column.**"
   ]
  },
  {
   "cell_type": "code",
   "execution_count": 11,
   "id": "57b46cd5-4a9d-43a1-9143-99bb3ea22ad4",
   "metadata": {},
   "outputs": [
    {
     "data": {
      "image/png": "[encoded data removed]",
      "text/plain": [
       "plot without title"
      ]
     },
     "metadata": {
      "image/png": {
       "height": 420,
       "width": 420
      }
     },
     "output_type": "display_data"
    }
   ],
   "source": [
    "# line chart code goes here\n",
    "\n",
    "p=ggplot(ncaa_sports_spending2,aes(x=year,y=expenditure_usd,color=men_or_women))+\n",
    "    geom_line()+\n",
    "    scale_y_continuous(labels=scales::dollar_format(suffix='M'))\n",
    "p"
   ]
  },
  {
   "cell_type": "markdown",
   "id": "2b4fb941-d796-416f-85ec-dc7a5a3c14ad",
   "metadata": {},
   "source": [
    "Uncomment and execute the code below to get a table for just UNC sports spending in 2019 called `unc_sports_spending_2019`."
   ]
  },
  {
   "cell_type": "code",
   "execution_count": 13,
   "id": "847246e9-530e-4b70-ab66-678a41ee0e0e",
   "metadata": {},
   "outputs": [],
   "source": [
    "unc_sports_spending_2019 = read_csv(data_url, col_types = cols()) |> \n",
    "    filter(institution_name == 'University of North Carolina at Chapel Hill', year == 2019) |>\n",
    "    pivot_longer(c(exp_men, exp_women), names_to = 'men_or_women', values_to = 'expenditure_usd') |>\n",
    "    arrange(rev(men_or_women), expenditure_usd) |>\n",
    "    mutate(sports = fct_inorder(sports)) |>\n",
    "    select(year, institution_name, sports, men_or_women, expenditure_usd) |>\n",
    "    mutate(men_or_women = str_replace(men_or_women, 'exp_', '')) |>\n",
    "    filter(!is.na(expenditure_usd))"
   ]
  },
  {
   "cell_type": "code",
   "execution_count": 14,
   "id": "aaacd298-e35a-4170-bf6d-f9c6e06fcad6",
   "metadata": {
    "tags": []
   },
   "outputs": [
    {
     "data": {
      "text/html": [
       "<table class=\"dataframe\">\n",
       "<caption>A tibble: 6 × 5</caption>\n",
       "<thead>\n",
       "\t<tr><th scope=col>year</th><th scope=col>institution_name</th><th scope=col>sports</th><th scope=col>men_or_women</th><th scope=col>expenditure_usd</th></tr>\n",
       "\t<tr><th scope=col>&lt;dbl&gt;</th><th scope=col>&lt;chr&gt;</th><th scope=col>&lt;fct&gt;</th><th scope=col>&lt;chr&gt;</th><th scope=col>&lt;dbl&gt;</th></tr>\n",
       "</thead>\n",
       "<tbody>\n",
       "\t<tr><td>2019</td><td>University of North Carolina at Chapel Hill</td><td>Fencing            </td><td>women</td><td> 212291</td></tr>\n",
       "\t<tr><td>2019</td><td>University of North Carolina at Chapel Hill</td><td>Golf               </td><td>women</td><td> 729939</td></tr>\n",
       "\t<tr><td>2019</td><td>University of North Carolina at Chapel Hill</td><td>Rowing             </td><td>women</td><td> 745952</td></tr>\n",
       "\t<tr><td>2019</td><td>University of North Carolina at Chapel Hill</td><td>Gymnastics         </td><td>women</td><td>1022938</td></tr>\n",
       "\t<tr><td>2019</td><td>University of North Carolina at Chapel Hill</td><td>Tennis             </td><td>women</td><td>1064746</td></tr>\n",
       "\t<tr><td>2019</td><td>University of North Carolina at Chapel Hill</td><td>Swimming and Diving</td><td>women</td><td>1255235</td></tr>\n",
       "</tbody>\n",
       "</table>\n"
      ],
      "text/latex": [
       "A tibble: 6 × 5\n",
       "\\begin{tabular}{lllll}\n",
       " year & institution\\_name & sports & men\\_or\\_women & expenditure\\_usd\\\\\n",
       " <dbl> & <chr> & <fct> & <chr> & <dbl>\\\\\n",
       "\\hline\n",
       "\t 2019 & University of North Carolina at Chapel Hill & Fencing             & women &  212291\\\\\n",
       "\t 2019 & University of North Carolina at Chapel Hill & Golf                & women &  729939\\\\\n",
       "\t 2019 & University of North Carolina at Chapel Hill & Rowing              & women &  745952\\\\\n",
       "\t 2019 & University of North Carolina at Chapel Hill & Gymnastics          & women & 1022938\\\\\n",
       "\t 2019 & University of North Carolina at Chapel Hill & Tennis              & women & 1064746\\\\\n",
       "\t 2019 & University of North Carolina at Chapel Hill & Swimming and Diving & women & 1255235\\\\\n",
       "\\end{tabular}\n"
      ],
      "text/markdown": [
       "\n",
       "A tibble: 6 × 5\n",
       "\n",
       "| year &lt;dbl&gt; | institution_name &lt;chr&gt; | sports &lt;fct&gt; | men_or_women &lt;chr&gt; | expenditure_usd &lt;dbl&gt; |\n",
       "|---|---|---|---|---|\n",
       "| 2019 | University of North Carolina at Chapel Hill | Fencing             | women |  212291 |\n",
       "| 2019 | University of North Carolina at Chapel Hill | Golf                | women |  729939 |\n",
       "| 2019 | University of North Carolina at Chapel Hill | Rowing              | women |  745952 |\n",
       "| 2019 | University of North Carolina at Chapel Hill | Gymnastics          | women | 1022938 |\n",
       "| 2019 | University of North Carolina at Chapel Hill | Tennis              | women | 1064746 |\n",
       "| 2019 | University of North Carolina at Chapel Hill | Swimming and Diving | women | 1255235 |\n",
       "\n"
      ],
      "text/plain": [
       "  year institution_name                            sports             \n",
       "1 2019 University of North Carolina at Chapel Hill Fencing            \n",
       "2 2019 University of North Carolina at Chapel Hill Golf               \n",
       "3 2019 University of North Carolina at Chapel Hill Rowing             \n",
       "4 2019 University of North Carolina at Chapel Hill Gymnastics         \n",
       "5 2019 University of North Carolina at Chapel Hill Tennis             \n",
       "6 2019 University of North Carolina at Chapel Hill Swimming and Diving\n",
       "  men_or_women expenditure_usd\n",
       "1 women         212291        \n",
       "2 women         729939        \n",
       "3 women         745952        \n",
       "4 women        1022938        \n",
       "5 women        1064746        \n",
       "6 women        1255235        "
      ]
     },
     "metadata": {},
     "output_type": "display_data"
    }
   ],
   "source": [
    "unc_sports_spending_2019 |> head()"
   ]
  },
  {
   "cell_type": "markdown",
   "id": "b2e667a5-6252-42e9-9f21-f36f73490f6a",
   "metadata": {},
   "source": [
    "Make a bar chart that compares spending across all sports for men versus women at UNC in 2019."
   ]
  },
  {
   "cell_type": "code",
   "execution_count": 28,
   "id": "86be63e5-5a95-4792-8330-5302430fdecf",
   "metadata": {},
   "outputs": [
    {
     "name": "stderr",
     "output_type": "stream",
     "text": [
      "\u001b[1m\u001b[22m`summarise()` has grouped output by 'sports'. You can override using the\n",
      "`.groups` argument.\n"
     ]
    }
   ],
   "source": [
    "# bar chart code goes here\n",
    "unc_sports_spending2 = unc_sports_spending_2019 |>\n",
    "    group_by(sports,men_or_women) |>\n",
    "    summarize(weight=expenditure_usd / 1e6)\n"
   ]
  },
  {
   "cell_type": "code",
   "execution_count": 29,
   "id": "dd3c8641-ff71-4bfb-9ff2-9f367f12acab",
   "metadata": {
    "tags": []
   },
   "outputs": [
    {
     "data": {
      "image/png": "[encoded data removed]",
      "text/plain": [
       "plot without title"
      ]
     },
     "metadata": {
      "image/png": {
       "height": 420,
       "width": 420
      }
     },
     "output_type": "display_data"
    }
   ],
   "source": [
    "p= ggplot(unc_sports_spending2,aes(x=weight,y=sports))+\n",
    "    geom_col()+\n",
    "    facet_wrap(~men_or_women)+\n",
    "    scale_x_continuous(labels = scales::dollar_format(suffix = 'M')) + \n",
    "    labs(x = 'Spending')\n",
    "p"
   ]
  },
  {
   "cell_type": "markdown",
   "id": "377fe163-60fc-4e93-b8b9-322a4ba3e345",
   "metadata": {},
   "source": [
    "You can find my solution [here](https://raw.githubusercontent.com/chuckpr/BIOS512/main/assignments/unc_sports_spending.png). **Your chart does not need to look exactly like mine!**\n",
    "\n",
    "To get the fancy dollar labels I had to do a couple things:\n",
    "\n",
    "First my `weight` encoding was like this:\n",
    "```r\n",
    "weight = expenditure_usd / 1e6\n",
    "```\n",
    "\n",
    "Second, I added this to my chart adjust how my axis labels were presented:\n",
    "```r\n",
    "scale_x_continuous(labels = scales::dollar_format(suffix = 'M')) + labs(x = 'Spending')\n",
    "```\n",
    "\n",
    "**BONUS** \n",
    "Can you make sense of the code above? What does the `labs` function do for instance?"
   ]
  },
  {
   "cell_type": "code",
   "execution_count": null,
   "id": "56bcf255-fad6-4e62-b394-aa2cb8ea9a57",
   "metadata": {},
   "outputs": [],
   "source": [
    "# The weight encoding was used to create visually simpler labels on the x-axis.\n",
    "# The labs function labels the x and y axes."
   ]
  }
 ],
 "metadata": {
  "kernelspec": {
   "display_name": "bios512:R",
   "language": "R",
   "name": "conda-env-bios512-r"
  },
  "language_info": {
   "codemirror_mode": "r",
   "file_extension": ".r",
   "mimetype": "text/x-r-source",
   "name": "R",
   "pygments_lexer": "r",
   "version": "4.3.1"
  }
 },
 "nbformat": 4,
 "nbformat_minor": 5
}
